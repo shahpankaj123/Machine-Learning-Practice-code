{
 "cells": [
  {
   "cell_type": "code",
   "execution_count": 1,
   "id": "2e30b711-d514-43b9-999d-9bb43f3aad70",
   "metadata": {},
   "outputs": [],
   "source": [
    "import numpy as np\n",
    "\n",
    "a=np.array([1,2,3,4])\n",
    "\n"
   ]
  },
  {
   "cell_type": "code",
   "execution_count": 2,
   "id": "259f2b86-3af1-47b2-9632-b6bab2a0a7b7",
   "metadata": {},
   "outputs": [
    {
     "data": {
      "text/plain": [
       "array([1, 2, 3, 4])"
      ]
     },
     "execution_count": 2,
     "metadata": {},
     "output_type": "execute_result"
    }
   ],
   "source": [
    "a"
   ]
  },
  {
   "cell_type": "markdown",
   "id": "93e780f0-a696-4d45-af98-2396b3bd3ccd",
   "metadata": {},
   "source": [
    "#1 first Header\n"
   ]
  },
  {
   "cell_type": "code",
   "execution_count": null,
   "id": "135540ba-3647-4a32-bbeb-9d63a98b33b4",
   "metadata": {},
   "outputs": [],
   "source": []
  }
 ],
 "metadata": {
  "kernelspec": {
   "display_name": "Python 3 (ipykernel)",
   "language": "python",
   "name": "python3"
  },
  "language_info": {
   "codemirror_mode": {
    "name": "ipython",
    "version": 3
   },
   "file_extension": ".py",
   "mimetype": "text/x-python",
   "name": "python",
   "nbconvert_exporter": "python",
   "pygments_lexer": "ipython3",
   "version": "3.11.5"
  }
 },
 "nbformat": 4,
 "nbformat_minor": 5
}
