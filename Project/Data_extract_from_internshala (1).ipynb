{
  "nbformat": 4,
  "nbformat_minor": 0,
  "metadata": {
    "colab": {
      "provenance": []
    },
    "kernelspec": {
      "name": "python3",
      "display_name": "Python 3"
    },
    "language_info": {
      "name": "python"
    }
  },
  "cells": [
    {
      "cell_type": "code",
      "execution_count": 69,
      "metadata": {
        "id": "IdqqPpeI81Ok"
      },
      "outputs": [],
      "source": [
        "import pandas as pd\n",
        "from bs4 import BeautifulSoup\n",
        "import requests"
      ]
    },
    {
      "cell_type": "code",
      "source": [
        "response=requests.get('https://internshala.com/internships/internship-in-delhi/')"
      ],
      "metadata": {
        "id": "Axhp8yDG9TwS"
      },
      "execution_count": 70,
      "outputs": []
    },
    {
      "cell_type": "code",
      "source": [
        "#response.txt"
      ],
      "metadata": {
        "id": "nQXr-P9V-GVR"
      },
      "execution_count": 71,
      "outputs": []
    },
    {
      "cell_type": "code",
      "source": [
        "sp = BeautifulSoup(response.text, 'lxml')\n"
      ],
      "metadata": {
        "id": "y9QMazq--LKB"
      },
      "execution_count": 72,
      "outputs": []
    },
    {
      "cell_type": "code",
      "source": [
        "data=sp.find_all('div',class_='internship_meta')"
      ],
      "metadata": {
        "id": "_LxQAM1N-UVi"
      },
      "execution_count": 13,
      "outputs": []
    },
    {
      "cell_type": "code",
      "source": [
        "company_name=[]\n",
        "for x in data:\n",
        "  company_name.append(x.find('h3').text.strip())\n",
        ""
      ],
      "metadata": {
        "id": "LnNPBhak_Qoc"
      },
      "execution_count": 73,
      "outputs": []
    },
    {
      "cell_type": "code",
      "source": [
        "company_name"
      ],
      "metadata": {
        "colab": {
          "base_uri": "https://localhost:8080/"
        },
        "id": "lPIhJ19jAO-C",
        "outputId": "f1cc9966-b5d3-483b-9cb6-9c3674366acd"
      },
      "execution_count": 74,
      "outputs": [
        {
          "output_type": "execute_result",
          "data": {
            "text/plain": [
              "['Campus Ambassador',\n",
              " 'Instagram Reel Editing',\n",
              " 'Content & E-Commerce Management',\n",
              " 'Film Director',\n",
              " 'Social Media Marketing',\n",
              " 'E-Commerce Business Management',\n",
              " 'Human Resources (HR)',\n",
              " 'Data & Reporting',\n",
              " 'Founders Office',\n",
              " 'Business Development (Sales)',\n",
              " 'Fashion Design',\n",
              " 'Chartered Accountancy (CA)',\n",
              " 'Fashion Design And Merchandising',\n",
              " 'Telecaller',\n",
              " 'E-commerce Operations',\n",
              " 'Content Creator',\n",
              " 'Visual Communications Design',\n",
              " 'Videography',\n",
              " 'Product Management',\n",
              " 'Business Development (Sales)',\n",
              " 'Inside Sales',\n",
              " 'Telecalling',\n",
              " 'Business Development (Sales)',\n",
              " 'Sales And Business Development In Personal Finance',\n",
              " 'Social Media Marketing For Interior/Architecture',\n",
              " 'Business Development (Sales)',\n",
              " 'Digital Marketing',\n",
              " 'Subject Matter Expert (SME)',\n",
              " 'Video Editing/Making',\n",
              " 'Electronics Engineering',\n",
              " 'Electronics Engineering',\n",
              " 'Sales Executive',\n",
              " 'Script Writer',\n",
              " 'Accounting',\n",
              " 'Product Management',\n",
              " 'Operations',\n",
              " 'Telecalling',\n",
              " 'Sales',\n",
              " 'Search Engine Optimization (SEO)',\n",
              " 'Business Development (Sales)',\n",
              " 'Search Engine Optimization (SEO)',\n",
              " 'Video Editing/Making',\n",
              " 'Business Development (Sales)']"
            ]
          },
          "metadata": {},
          "execution_count": 74
        }
      ]
    },
    {
      "cell_type": "code",
      "source": [
        "location=[]\n",
        "for x in data:\n",
        "  location.append(x.find('a').text.strip())"
      ],
      "metadata": {
        "id": "U4c4ZKHhAehI"
      },
      "execution_count": 75,
      "outputs": []
    },
    {
      "cell_type": "code",
      "source": [
        "location"
      ],
      "metadata": {
        "colab": {
          "base_uri": "https://localhost:8080/"
        },
        "id": "tDK85Jo-Awq3",
        "outputId": "5decb60b-c7e6-4896-e8a9-8ec2901c990d"
      },
      "execution_count": 76,
      "outputs": [
        {
          "output_type": "execute_result",
          "data": {
            "text/plain": [
              "['Bangalore, Delhi',\n",
              " 'Delhi',\n",
              " 'Delhi, Ghaziabad, Noida',\n",
              " 'Noida, Gurgaon, Delhi',\n",
              " 'Delhi',\n",
              " 'Delhi',\n",
              " 'Noida',\n",
              " 'Delhi',\n",
              " 'Delhi, Bhiwadi, Gurgaon',\n",
              " 'Delhi, Noida',\n",
              " 'Delhi',\n",
              " 'Delhi',\n",
              " 'Delhi',\n",
              " 'Delhi',\n",
              " 'Delhi',\n",
              " 'Delhi',\n",
              " 'Delhi',\n",
              " 'Delhi',\n",
              " 'Delhi',\n",
              " 'Delhi',\n",
              " 'Delhi',\n",
              " 'Delhi',\n",
              " 'Delhi',\n",
              " 'Delhi',\n",
              " 'Delhi',\n",
              " 'Delhi, Gurgaon',\n",
              " 'Delhi',\n",
              " 'Delhi',\n",
              " 'Gurgaon, Delhi, Faridabad',\n",
              " 'Noida, Delhi',\n",
              " 'Delhi',\n",
              " 'Noida, Greater Noida, Delhi, Ghaziabad',\n",
              " 'Delhi',\n",
              " 'Delhi',\n",
              " 'Delhi',\n",
              " 'Delhi',\n",
              " 'Delhi',\n",
              " 'Delhi',\n",
              " 'Delhi',\n",
              " 'Delhi',\n",
              " 'Delhi',\n",
              " 'Delhi, Ghaziabad, Noida, Gurgaon, Faridabad',\n",
              " 'Delhi']"
            ]
          },
          "metadata": {},
          "execution_count": 76
        }
      ]
    },
    {
      "cell_type": "code",
      "source": [
        "start_date=[]\n",
        "for x in data:\n",
        "  start_date.append(x.find('span',class_='start_immediately_desktop').text.strip())"
      ],
      "metadata": {
        "id": "YJ_E0cPKBAqK"
      },
      "execution_count": 77,
      "outputs": []
    },
    {
      "cell_type": "code",
      "source": [
        "start_date"
      ],
      "metadata": {
        "colab": {
          "base_uri": "https://localhost:8080/"
        },
        "id": "dMXy3a1KBd53",
        "outputId": "34f2592d-f9e1-4155-d2a6-9f7daa9e9946"
      },
      "execution_count": 78,
      "outputs": [
        {
          "output_type": "execute_result",
          "data": {
            "text/plain": [
              "['Immediately',\n",
              " 'Immediately',\n",
              " 'Immediately',\n",
              " 'Immediately',\n",
              " 'Immediately',\n",
              " 'Immediately',\n",
              " 'Immediately',\n",
              " 'Immediately',\n",
              " 'Immediately',\n",
              " 'Immediately',\n",
              " 'Immediately',\n",
              " 'Immediately',\n",
              " 'Immediately',\n",
              " 'Immediately',\n",
              " 'Immediately',\n",
              " 'Immediately',\n",
              " 'Immediately',\n",
              " 'Immediately',\n",
              " 'Immediately',\n",
              " 'Immediately',\n",
              " 'Immediately',\n",
              " 'Immediately',\n",
              " 'Immediately',\n",
              " 'Immediately',\n",
              " 'Immediately',\n",
              " 'Immediately',\n",
              " 'Immediately',\n",
              " 'Immediately',\n",
              " 'Immediately',\n",
              " 'Immediately',\n",
              " 'Immediately',\n",
              " 'Immediately',\n",
              " 'Immediately',\n",
              " 'Immediately',\n",
              " 'Immediately',\n",
              " 'Immediately',\n",
              " 'Immediately',\n",
              " 'Immediately',\n",
              " 'Immediately',\n",
              " 'Immediately',\n",
              " 'Immediately',\n",
              " 'Immediately',\n",
              " 'Immediately']"
            ]
          },
          "metadata": {},
          "execution_count": 78
        }
      ]
    },
    {
      "cell_type": "code",
      "source": [
        "stipend=[]\n",
        "for x in data:\n",
        "  stipend.append(x.find('span',class_='stipend').text.strip())\n",
        "\n",
        ""
      ],
      "metadata": {
        "id": "QeVxTgI_BqQu"
      },
      "execution_count": 79,
      "outputs": []
    },
    {
      "cell_type": "code",
      "source": [
        "stipend"
      ],
      "metadata": {
        "colab": {
          "base_uri": "https://localhost:8080/"
        },
        "id": "NjhEmpsSCJc2",
        "outputId": "5c2b5761-170f-4969-8afb-3f58853fce3e"
      },
      "execution_count": 80,
      "outputs": [
        {
          "output_type": "execute_result",
          "data": {
            "text/plain": [
              "['Performance Based',\n",
              " '₹ 8,000-10,000 /month',\n",
              " '₹ 12,000-15,000 /month',\n",
              " '₹ 7,500 /month',\n",
              " '₹ 6,000-10,000 /month',\n",
              " '₹ 2,000-4,000 /month',\n",
              " '₹ 7,000 /month',\n",
              " '₹ 10,000-15,000 /month',\n",
              " '₹ 30,000 /month',\n",
              " '₹ 15,000 /month',\n",
              " '₹ 2,000-10,000 /month',\n",
              " '₹ 3,000-6,500 /month',\n",
              " '₹ 2,000-10,000 /month',\n",
              " '₹ 12,000 /month',\n",
              " '₹ 2,000-4,000 /month',\n",
              " '₹ 20,000 /month',\n",
              " '₹ 15,000-30,000 /month',\n",
              " '₹ 10,000-20,000 /month',\n",
              " '₹ 2,000-5,000 /month',\n",
              " '₹ 3,000 /month',\n",
              " '₹ 25,000 /month',\n",
              " '₹ 7,000-10,000 /month',\n",
              " '₹ 5,000-10,000 /month',\n",
              " '₹ 6,000 /month',\n",
              " '₹ 8,000-15,000 /month',\n",
              " '₹ 2,000 /month +  Incentives',\n",
              " '₹ 5,000-10,000 /month',\n",
              " '₹ 12,000 /month',\n",
              " '₹ 8,000-20,000 /month',\n",
              " '₹ 7,500 /month',\n",
              " '₹ 15,000-25,000 /month',\n",
              " '₹ 15,000 /month',\n",
              " '₹ 5,000-15,000 /month',\n",
              " '₹ 7,000 /month',\n",
              " '₹ 20,000 /month',\n",
              " '₹ 7,000 /month',\n",
              " '₹ 5,000 /month',\n",
              " '₹ 10,000 /month',\n",
              " '₹ 5,000-10,000 /month',\n",
              " '₹ 10,000-20,000 /month',\n",
              " '₹ 8,000-12,000 /month',\n",
              " '₹ 7,500 /month',\n",
              " '₹ 15,000 /month']"
            ]
          },
          "metadata": {},
          "execution_count": 80
        }
      ]
    },
    {
      "cell_type": "code",
      "source": [
        "dataframe={\n",
        "    \"campany_name\":company_name,\n",
        "    \"location\":location,\n",
        "    \"start_date\":start_date,\n",
        "    \"stipend\":stipend\n",
        "}\n",
        "df=pd.DataFrame(dataframe)"
      ],
      "metadata": {
        "id": "j8GCEmi7HfWV"
      },
      "execution_count": 81,
      "outputs": []
    },
    {
      "cell_type": "code",
      "source": [
        "df.head()"
      ],
      "metadata": {
        "colab": {
          "base_uri": "https://localhost:8080/",
          "height": 206
        },
        "id": "5t7sl7U3K_kP",
        "outputId": "870ee07f-947c-46c5-eb80-17ccdefbf8e1"
      },
      "execution_count": 82,
      "outputs": [
        {
          "output_type": "execute_result",
          "data": {
            "text/plain": [
              "                      campany_name                 location   start_date  \\\n",
              "0                Campus Ambassador         Bangalore, Delhi  Immediately   \n",
              "1           Instagram Reel Editing                    Delhi  Immediately   \n",
              "2  Content & E-Commerce Management  Delhi, Ghaziabad, Noida  Immediately   \n",
              "3                    Film Director    Noida, Gurgaon, Delhi  Immediately   \n",
              "4           Social Media Marketing                    Delhi  Immediately   \n",
              "\n",
              "                  stipend  \n",
              "0       Performance Based  \n",
              "1   ₹ 8,000-10,000 /month  \n",
              "2  ₹ 12,000-15,000 /month  \n",
              "3          ₹ 7,500 /month  \n",
              "4   ₹ 6,000-10,000 /month  "
            ],
            "text/html": [
              "\n",
              "  <div id=\"df-15f2a7ed-340f-46b6-bcf8-264f302ba395\" class=\"colab-df-container\">\n",
              "    <div>\n",
              "<style scoped>\n",
              "    .dataframe tbody tr th:only-of-type {\n",
              "        vertical-align: middle;\n",
              "    }\n",
              "\n",
              "    .dataframe tbody tr th {\n",
              "        vertical-align: top;\n",
              "    }\n",
              "\n",
              "    .dataframe thead th {\n",
              "        text-align: right;\n",
              "    }\n",
              "</style>\n",
              "<table border=\"1\" class=\"dataframe\">\n",
              "  <thead>\n",
              "    <tr style=\"text-align: right;\">\n",
              "      <th></th>\n",
              "      <th>campany_name</th>\n",
              "      <th>location</th>\n",
              "      <th>start_date</th>\n",
              "      <th>stipend</th>\n",
              "    </tr>\n",
              "  </thead>\n",
              "  <tbody>\n",
              "    <tr>\n",
              "      <th>0</th>\n",
              "      <td>Campus Ambassador</td>\n",
              "      <td>Bangalore, Delhi</td>\n",
              "      <td>Immediately</td>\n",
              "      <td>Performance Based</td>\n",
              "    </tr>\n",
              "    <tr>\n",
              "      <th>1</th>\n",
              "      <td>Instagram Reel Editing</td>\n",
              "      <td>Delhi</td>\n",
              "      <td>Immediately</td>\n",
              "      <td>₹ 8,000-10,000 /month</td>\n",
              "    </tr>\n",
              "    <tr>\n",
              "      <th>2</th>\n",
              "      <td>Content &amp; E-Commerce Management</td>\n",
              "      <td>Delhi, Ghaziabad, Noida</td>\n",
              "      <td>Immediately</td>\n",
              "      <td>₹ 12,000-15,000 /month</td>\n",
              "    </tr>\n",
              "    <tr>\n",
              "      <th>3</th>\n",
              "      <td>Film Director</td>\n",
              "      <td>Noida, Gurgaon, Delhi</td>\n",
              "      <td>Immediately</td>\n",
              "      <td>₹ 7,500 /month</td>\n",
              "    </tr>\n",
              "    <tr>\n",
              "      <th>4</th>\n",
              "      <td>Social Media Marketing</td>\n",
              "      <td>Delhi</td>\n",
              "      <td>Immediately</td>\n",
              "      <td>₹ 6,000-10,000 /month</td>\n",
              "    </tr>\n",
              "  </tbody>\n",
              "</table>\n",
              "</div>\n",
              "    <div class=\"colab-df-buttons\">\n",
              "\n",
              "  <div class=\"colab-df-container\">\n",
              "    <button class=\"colab-df-convert\" onclick=\"convertToInteractive('df-15f2a7ed-340f-46b6-bcf8-264f302ba395')\"\n",
              "            title=\"Convert this dataframe to an interactive table.\"\n",
              "            style=\"display:none;\">\n",
              "\n",
              "  <svg xmlns=\"http://www.w3.org/2000/svg\" height=\"24px\" viewBox=\"0 -960 960 960\">\n",
              "    <path d=\"M120-120v-720h720v720H120Zm60-500h600v-160H180v160Zm220 220h160v-160H400v160Zm0 220h160v-160H400v160ZM180-400h160v-160H180v160Zm440 0h160v-160H620v160ZM180-180h160v-160H180v160Zm440 0h160v-160H620v160Z\"/>\n",
              "  </svg>\n",
              "    </button>\n",
              "\n",
              "  <style>\n",
              "    .colab-df-container {\n",
              "      display:flex;\n",
              "      gap: 12px;\n",
              "    }\n",
              "\n",
              "    .colab-df-convert {\n",
              "      background-color: #E8F0FE;\n",
              "      border: none;\n",
              "      border-radius: 50%;\n",
              "      cursor: pointer;\n",
              "      display: none;\n",
              "      fill: #1967D2;\n",
              "      height: 32px;\n",
              "      padding: 0 0 0 0;\n",
              "      width: 32px;\n",
              "    }\n",
              "\n",
              "    .colab-df-convert:hover {\n",
              "      background-color: #E2EBFA;\n",
              "      box-shadow: 0px 1px 2px rgba(60, 64, 67, 0.3), 0px 1px 3px 1px rgba(60, 64, 67, 0.15);\n",
              "      fill: #174EA6;\n",
              "    }\n",
              "\n",
              "    .colab-df-buttons div {\n",
              "      margin-bottom: 4px;\n",
              "    }\n",
              "\n",
              "    [theme=dark] .colab-df-convert {\n",
              "      background-color: #3B4455;\n",
              "      fill: #D2E3FC;\n",
              "    }\n",
              "\n",
              "    [theme=dark] .colab-df-convert:hover {\n",
              "      background-color: #434B5C;\n",
              "      box-shadow: 0px 1px 3px 1px rgba(0, 0, 0, 0.15);\n",
              "      filter: drop-shadow(0px 1px 2px rgba(0, 0, 0, 0.3));\n",
              "      fill: #FFFFFF;\n",
              "    }\n",
              "  </style>\n",
              "\n",
              "    <script>\n",
              "      const buttonEl =\n",
              "        document.querySelector('#df-15f2a7ed-340f-46b6-bcf8-264f302ba395 button.colab-df-convert');\n",
              "      buttonEl.style.display =\n",
              "        google.colab.kernel.accessAllowed ? 'block' : 'none';\n",
              "\n",
              "      async function convertToInteractive(key) {\n",
              "        const element = document.querySelector('#df-15f2a7ed-340f-46b6-bcf8-264f302ba395');\n",
              "        const dataTable =\n",
              "          await google.colab.kernel.invokeFunction('convertToInteractive',\n",
              "                                                    [key], {});\n",
              "        if (!dataTable) return;\n",
              "\n",
              "        const docLinkHtml = 'Like what you see? Visit the ' +\n",
              "          '<a target=\"_blank\" href=https://colab.research.google.com/notebooks/data_table.ipynb>data table notebook</a>'\n",
              "          + ' to learn more about interactive tables.';\n",
              "        element.innerHTML = '';\n",
              "        dataTable['output_type'] = 'display_data';\n",
              "        await google.colab.output.renderOutput(dataTable, element);\n",
              "        const docLink = document.createElement('div');\n",
              "        docLink.innerHTML = docLinkHtml;\n",
              "        element.appendChild(docLink);\n",
              "      }\n",
              "    </script>\n",
              "  </div>\n",
              "\n",
              "\n",
              "<div id=\"df-3dec05a5-364f-44a8-b358-450df959a085\">\n",
              "  <button class=\"colab-df-quickchart\" onclick=\"quickchart('df-3dec05a5-364f-44a8-b358-450df959a085')\"\n",
              "            title=\"Suggest charts\"\n",
              "            style=\"display:none;\">\n",
              "\n",
              "<svg xmlns=\"http://www.w3.org/2000/svg\" height=\"24px\"viewBox=\"0 0 24 24\"\n",
              "     width=\"24px\">\n",
              "    <g>\n",
              "        <path d=\"M19 3H5c-1.1 0-2 .9-2 2v14c0 1.1.9 2 2 2h14c1.1 0 2-.9 2-2V5c0-1.1-.9-2-2-2zM9 17H7v-7h2v7zm4 0h-2V7h2v10zm4 0h-2v-4h2v4z\"/>\n",
              "    </g>\n",
              "</svg>\n",
              "  </button>\n",
              "\n",
              "<style>\n",
              "  .colab-df-quickchart {\n",
              "      --bg-color: #E8F0FE;\n",
              "      --fill-color: #1967D2;\n",
              "      --hover-bg-color: #E2EBFA;\n",
              "      --hover-fill-color: #174EA6;\n",
              "      --disabled-fill-color: #AAA;\n",
              "      --disabled-bg-color: #DDD;\n",
              "  }\n",
              "\n",
              "  [theme=dark] .colab-df-quickchart {\n",
              "      --bg-color: #3B4455;\n",
              "      --fill-color: #D2E3FC;\n",
              "      --hover-bg-color: #434B5C;\n",
              "      --hover-fill-color: #FFFFFF;\n",
              "      --disabled-bg-color: #3B4455;\n",
              "      --disabled-fill-color: #666;\n",
              "  }\n",
              "\n",
              "  .colab-df-quickchart {\n",
              "    background-color: var(--bg-color);\n",
              "    border: none;\n",
              "    border-radius: 50%;\n",
              "    cursor: pointer;\n",
              "    display: none;\n",
              "    fill: var(--fill-color);\n",
              "    height: 32px;\n",
              "    padding: 0;\n",
              "    width: 32px;\n",
              "  }\n",
              "\n",
              "  .colab-df-quickchart:hover {\n",
              "    background-color: var(--hover-bg-color);\n",
              "    box-shadow: 0 1px 2px rgba(60, 64, 67, 0.3), 0 1px 3px 1px rgba(60, 64, 67, 0.15);\n",
              "    fill: var(--button-hover-fill-color);\n",
              "  }\n",
              "\n",
              "  .colab-df-quickchart-complete:disabled,\n",
              "  .colab-df-quickchart-complete:disabled:hover {\n",
              "    background-color: var(--disabled-bg-color);\n",
              "    fill: var(--disabled-fill-color);\n",
              "    box-shadow: none;\n",
              "  }\n",
              "\n",
              "  .colab-df-spinner {\n",
              "    border: 2px solid var(--fill-color);\n",
              "    border-color: transparent;\n",
              "    border-bottom-color: var(--fill-color);\n",
              "    animation:\n",
              "      spin 1s steps(1) infinite;\n",
              "  }\n",
              "\n",
              "  @keyframes spin {\n",
              "    0% {\n",
              "      border-color: transparent;\n",
              "      border-bottom-color: var(--fill-color);\n",
              "      border-left-color: var(--fill-color);\n",
              "    }\n",
              "    20% {\n",
              "      border-color: transparent;\n",
              "      border-left-color: var(--fill-color);\n",
              "      border-top-color: var(--fill-color);\n",
              "    }\n",
              "    30% {\n",
              "      border-color: transparent;\n",
              "      border-left-color: var(--fill-color);\n",
              "      border-top-color: var(--fill-color);\n",
              "      border-right-color: var(--fill-color);\n",
              "    }\n",
              "    40% {\n",
              "      border-color: transparent;\n",
              "      border-right-color: var(--fill-color);\n",
              "      border-top-color: var(--fill-color);\n",
              "    }\n",
              "    60% {\n",
              "      border-color: transparent;\n",
              "      border-right-color: var(--fill-color);\n",
              "    }\n",
              "    80% {\n",
              "      border-color: transparent;\n",
              "      border-right-color: var(--fill-color);\n",
              "      border-bottom-color: var(--fill-color);\n",
              "    }\n",
              "    90% {\n",
              "      border-color: transparent;\n",
              "      border-bottom-color: var(--fill-color);\n",
              "    }\n",
              "  }\n",
              "</style>\n",
              "\n",
              "  <script>\n",
              "    async function quickchart(key) {\n",
              "      const quickchartButtonEl =\n",
              "        document.querySelector('#' + key + ' button');\n",
              "      quickchartButtonEl.disabled = true;  // To prevent multiple clicks.\n",
              "      quickchartButtonEl.classList.add('colab-df-spinner');\n",
              "      try {\n",
              "        const charts = await google.colab.kernel.invokeFunction(\n",
              "            'suggestCharts', [key], {});\n",
              "      } catch (error) {\n",
              "        console.error('Error during call to suggestCharts:', error);\n",
              "      }\n",
              "      quickchartButtonEl.classList.remove('colab-df-spinner');\n",
              "      quickchartButtonEl.classList.add('colab-df-quickchart-complete');\n",
              "    }\n",
              "    (() => {\n",
              "      let quickchartButtonEl =\n",
              "        document.querySelector('#df-3dec05a5-364f-44a8-b358-450df959a085 button');\n",
              "      quickchartButtonEl.style.display =\n",
              "        google.colab.kernel.accessAllowed ? 'block' : 'none';\n",
              "    })();\n",
              "  </script>\n",
              "</div>\n",
              "\n",
              "    </div>\n",
              "  </div>\n"
            ],
            "application/vnd.google.colaboratory.intrinsic+json": {
              "type": "dataframe",
              "variable_name": "df",
              "summary": "{\n  \"name\": \"df\",\n  \"rows\": 43,\n  \"fields\": [\n    {\n      \"column\": \"campany_name\",\n      \"properties\": {\n        \"dtype\": \"string\",\n        \"num_unique_values\": 33,\n        \"samples\": [\n          \"Sales\",\n          \"Content Creator\",\n          \"Electronics Engineering\"\n        ],\n        \"semantic_type\": \"\",\n        \"description\": \"\"\n      }\n    },\n    {\n      \"column\": \"location\",\n      \"properties\": {\n        \"dtype\": \"category\",\n        \"num_unique_values\": 12,\n        \"samples\": [\n          \"Noida, Greater Noida, Delhi, Ghaziabad\",\n          \"Noida, Delhi\",\n          \"Bangalore, Delhi\"\n        ],\n        \"semantic_type\": \"\",\n        \"description\": \"\"\n      }\n    },\n    {\n      \"column\": \"start_date\",\n      \"properties\": {\n        \"dtype\": \"category\",\n        \"num_unique_values\": 1,\n        \"samples\": [\n          \"Immediately\"\n        ],\n        \"semantic_type\": \"\",\n        \"description\": \"\"\n      }\n    },\n    {\n      \"column\": \"stipend\",\n      \"properties\": {\n        \"dtype\": \"string\",\n        \"num_unique_values\": 30,\n        \"samples\": [\n          \"\\u20b9 5,000 /month\"\n        ],\n        \"semantic_type\": \"\",\n        \"description\": \"\"\n      }\n    }\n  ]\n}"
            }
          },
          "metadata": {},
          "execution_count": 82
        }
      ]
    },
    {
      "cell_type": "code",
      "source": [
        "df.to_csv('internshala_intership_data_of delhi.csv')"
      ],
      "metadata": {
        "id": "tf4k5dU2LAIf"
      },
      "execution_count": 68,
      "outputs": []
    }
  ]
}